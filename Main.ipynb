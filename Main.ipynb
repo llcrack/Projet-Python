{
 "cells": [
  {
   "cell_type": "code",
   "execution_count": null,
   "id": "21e1a482",
   "metadata": {},
   "outputs": [],
   "source": [
    "import yfinance as yf\n",
    "import numpy as np\n",
    "import pandas as pd\n",
    "import plotly.graph_object as go\n",
    "\n",
    "from dash import dcc, html\n",
    "from dash.dependecies import Input, Output\n",
    "\n",
    "from sklearn.linear_model import LinearRegression\n",
    "from sklearn.model_selection import train_test_split\n",
    "from sklearn.metrics import accuracy_score\n",
    "from sklearn.ensemble import RandomForestClassifier"
   ]
  }
 ],
 "metadata": {
  "language_info": {
   "name": "python"
  }
 },
 "nbformat": 4,
 "nbformat_minor": 5
}
