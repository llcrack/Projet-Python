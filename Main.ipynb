{
 "cells": [
  {
   "cell_type": "code",
   "execution_count": 12,
   "id": "21e1a482",
   "metadata": {},
   "outputs": [
    {
     "ename": "ModuleNotFoundError",
     "evalue": "No module named 'plotly'",
     "output_type": "error",
     "traceback": [
      "\u001b[31m---------------------------------------------------------------------------\u001b[39m",
      "\u001b[31mModuleNotFoundError\u001b[39m                       Traceback (most recent call last)",
      "\u001b[36mCell\u001b[39m\u001b[36m \u001b[39m\u001b[32mIn[1]\u001b[39m\u001b[32m, line 4\u001b[39m\n\u001b[32m      2\u001b[39m \u001b[38;5;28;01mimport\u001b[39;00m\u001b[38;5;250m \u001b[39m\u001b[34;01mnumpy\u001b[39;00m\u001b[38;5;250m \u001b[39m\u001b[38;5;28;01mas\u001b[39;00m\u001b[38;5;250m \u001b[39m\u001b[34;01mnp\u001b[39;00m\n\u001b[32m      3\u001b[39m \u001b[38;5;28;01mimport\u001b[39;00m\u001b[38;5;250m \u001b[39m\u001b[34;01mpandas\u001b[39;00m\u001b[38;5;250m \u001b[39m\u001b[38;5;28;01mas\u001b[39;00m\u001b[38;5;250m \u001b[39m\u001b[34;01mpd\u001b[39;00m\n\u001b[32m----> \u001b[39m\u001b[32m4\u001b[39m \u001b[38;5;28;01mimport\u001b[39;00m\u001b[38;5;250m \u001b[39m\u001b[34;01mplotly\u001b[39;00m\u001b[34;01m.\u001b[39;00m\u001b[34;01mgraph_object\u001b[39;00m\u001b[38;5;250m \u001b[39m\u001b[38;5;28;01mas\u001b[39;00m\u001b[38;5;250m \u001b[39m\u001b[34;01mgo\u001b[39;00m\n\u001b[32m      6\u001b[39m \u001b[38;5;28;01mfrom\u001b[39;00m\u001b[38;5;250m \u001b[39m\u001b[34;01mdash\u001b[39;00m\u001b[38;5;250m \u001b[39m\u001b[38;5;28;01mimport\u001b[39;00m dcc, html\n\u001b[32m      7\u001b[39m \u001b[38;5;28;01mfrom\u001b[39;00m\u001b[38;5;250m \u001b[39m\u001b[34;01mdash\u001b[39;00m\u001b[34;01m.\u001b[39;00m\u001b[34;01mdependecies\u001b[39;00m\u001b[38;5;250m \u001b[39m\u001b[38;5;28;01mimport\u001b[39;00m Input, Output\n",
      "\u001b[31mModuleNotFoundError\u001b[39m: No module named 'plotly'"
     ]
    }
   ],
   "source": [
    "import yfinance as yf\n",
    "import numpy as np\n",
    "import pandas as pd\n",
    "import plotly.graph_objects as go\n",
    "import requests\n",
    "import time\n",
    "import os\n",
    "from io import StringIO\n",
    "from dash import dcc, html\n",
    "from dash.dependencies import Input, Output\n",
    "from sklearn.ensemble import RandomForestClassifier"
   ]
  },
  {
   "cell_type": "code",
   "execution_count": 33,
   "id": "a4e18e6a",
   "metadata": {},
   "outputs": [],
   "source": [
    "start_time = time.time()\n",
    "if not os.path.exists(\"data\"):    ### Création d'un dossier data et de sous dossiers s'ils n'existent ###\n",
    "    os.makedirs(\"data\")           ### pas encore afin de stocker les données de chaque actif et       ###\n",
    "    os.makedirs(\"data/history\")   ### indices ainsi que la dernière fois que le programme a été lancé ###  \n",
    "    os.makedirs(\"data/data\")\n",
    "if not os.path.exists(\"data/history/sp500.txt\"):\n",
    "    with open(\"data/history/sp500.txt\",\"w\") as sp:\n",
    "        initialisation = \"2000-01-01 00:00:00\"\n",
    "        initialisation = np.datetime64(initialisation,'s')\n",
    "        initialisation = str(initialisation.astype(\"int64\"))\n",
    "        sp.write(initialisation)\n",
    "with open(\"data/history/sp500.txt\",\"r\") as sp:\n",
    "    row = sp.readlines()\n",
    "    last_line = int(row[-1].strip())\n",
    "if last_line//86400 != start_time//86400:                 ### On actualise les données via l'API Yahoo Finance ###\n",
    "    url = \"https://stockanalysis.com/list/sp-500-stocks/\" ### si la dernière fois que le programme à été lancé ###\n",
    "    headers = {\"user-agent\":\"Mozilla/5.0\"}                ### était un jour antérieur à aujourd'hui            ###\n",
    "    reponse = requests.get(url, headers=headers)\n",
    "    tickers = pd.read_html(StringIO(reponse.text))\n",
    "    tickers = tickers[0][\"Symbol\"]\n",
    "    tickers = tickers.to_list()\n",
    "    if \"GOOG\" in tickers:                                     ### Sur le site où on récupère les 500 tickers des actions ### \n",
    "        tickers.remove(\"GOOG\")                                ### qui composent le S&P500 GOOGLE est présent 2 fois      ### \n",
    "    tickers = [ticker.replace(\".\",\"-\") for ticker in tickers] \n",
    "    sp_data = yf.download(tickers,period=\"3mo\",interval=\"1d\")[[\"Open\",\"Close\"]]\n",
    "    sp_indice_data = yf.download(\"ES=F\", period=\"3mo\",interval=\"1d\")[[\"Open\",\"Close\"]]\n",
    "    sp_data.to_csv(\"data/data/sp_data.csv\")                   ### Enregistrement des données en csv pour ne pas avoir à  ### \n",
    "    sp_indice_data.to_csv(\"data/data/sp_indice_data.csv\")     ### les retélécherger plusieurs fois par jour              ###\n",
    "    with open(\"data/history/sp500.txt\",\"a\") as sp:\n",
    "        note = str(np.int64(time.time()))\n",
    "        sp.write(f\"\\n{note}\")\n",
    "    print(\"Données actualisées depuis Yfinance\")\n",
    "else:                                                             ### Dans le cas où la dernière fois qu'on à lancé le   ###\n",
    "    sp_data = pd.read_csv(                                        ### programme est dans la même journée qu'aujourd'hui, ###\n",
    "        \"data/data/sp_data.csv\",                                  ### on importe les données depuis le dossier data/data ###\n",
    "        index_col=[0],header=[0,1]\n",
    "        )                \n",
    "    sp_indice_data = pd.read_csv(\"data/data/sp_indice_data.csv\",index_col=[0],header=[0,1])                                  \n",
    "    sp_data.index = pd.to_datetime(sp_data.index)                 \n",
    "    sp_indice_data.index = pd.to_datetime(sp_indice_data.index)"
   ]
  }
 ],
 "metadata": {
  "kernelspec": {
   "display_name": "env",
   "language": "python",
   "name": "python3"
  },
  "language_info": {
   "codemirror_mode": {
    "name": "ipython",
    "version": 3
   },
   "file_extension": ".py",
   "mimetype": "text/x-python",
   "name": "python",
   "nbconvert_exporter": "python",
   "pygments_lexer": "ipython3",
   "version": "3.12.4"
  }
 },
 "nbformat": 4,
 "nbformat_minor": 5
}
